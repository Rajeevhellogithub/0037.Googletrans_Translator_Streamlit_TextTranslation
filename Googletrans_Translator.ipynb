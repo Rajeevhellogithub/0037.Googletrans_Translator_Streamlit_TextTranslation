{
 "cells": [
  {
   "cell_type": "code",
   "execution_count": 1,
   "id": "4f39ea22-ed09-48d5-893c-c4334f51105a",
   "metadata": {},
   "outputs": [],
   "source": [
    "import streamlit as st\n",
    "from googletrans import Translator, LANGUAGES"
   ]
  },
  {
   "cell_type": "code",
   "execution_count": 2,
   "id": "304a6080-a5d1-49f9-9457-bcb5a632b9ca",
   "metadata": {},
   "outputs": [],
   "source": [
    "# translator = Translator(service_urls=['translate.google.com'])\n",
    "translator = Translator()"
   ]
  },
  {
   "cell_type": "code",
   "execution_count": 3,
   "id": "5311fcd9-a538-4114-8f22-18f008f53bef",
   "metadata": {},
   "outputs": [],
   "source": [
    "text_to_translate = 'Hi my name is Rajeev'"
   ]
  },
  {
   "cell_type": "code",
   "execution_count": 4,
   "id": "563f4758-f301-4a35-895d-fe8c83fa3475",
   "metadata": {},
   "outputs": [
    {
     "name": "stdout",
     "output_type": "stream",
     "text": [
      "हाय मेरा नाम राजीव है\n"
     ]
    }
   ],
   "source": [
    "translation = translator.translate(text_to_translate, src='en', dest='hi')\n",
    "print(translation.text)"
   ]
  },
  {
   "cell_type": "code",
   "execution_count": 5,
   "id": "79cadf41-2adf-49f5-89c0-f341f08124bf",
   "metadata": {},
   "outputs": [
    {
     "name": "stdout",
     "output_type": "stream",
     "text": [
      "107\n"
     ]
    }
   ],
   "source": [
    "lang_list = list(LANGUAGES.values())\n",
    "print(len(lang_list))"
   ]
  },
  {
   "cell_type": "code",
   "execution_count": 6,
   "id": "cb4da883-0a3e-408a-b341-a02d4eaf7cfb",
   "metadata": {},
   "outputs": [
    {
     "name": "stdout",
     "output_type": "stream",
     "text": [
      "['afrikaans', 'albanian', 'amharic', 'arabic', 'armenian', 'azerbaijani', 'basque', 'belarusian', 'bengali', 'bosnian', 'bulgarian', 'catalan', 'cebuano', 'chichewa', 'chinese (simplified)', 'chinese (traditional)', 'corsican', 'croatian', 'czech', 'danish', 'dutch', 'english', 'esperanto', 'estonian', 'filipino', 'finnish', 'french', 'frisian', 'galician', 'georgian', 'german', 'greek', 'gujarati', 'haitian creole', 'hausa', 'hawaiian', 'hebrew', 'hebrew', 'hindi', 'hmong', 'hungarian', 'icelandic', 'igbo', 'indonesian', 'irish', 'italian', 'japanese', 'javanese', 'kannada', 'kazakh', 'khmer', 'korean', 'kurdish (kurmanji)', 'kyrgyz', 'lao', 'latin', 'latvian', 'lithuanian', 'luxembourgish', 'macedonian', 'malagasy', 'malay', 'malayalam', 'maltese', 'maori', 'marathi', 'mongolian', 'myanmar (burmese)', 'nepali', 'norwegian', 'odia', 'pashto', 'persian', 'polish', 'portuguese', 'punjabi', 'romanian', 'russian', 'samoan', 'scots gaelic', 'serbian', 'sesotho', 'shona', 'sindhi', 'sinhala', 'slovak', 'slovenian', 'somali', 'spanish', 'sundanese', 'swahili', 'swedish', 'tajik', 'tamil', 'telugu', 'thai', 'turkish', 'ukrainian', 'urdu', 'uyghur', 'uzbek', 'vietnamese', 'welsh', 'xhosa', 'yiddish', 'yoruba', 'zulu']\n"
     ]
    }
   ],
   "source": [
    "print(lang_list)"
   ]
  },
  {
   "cell_type": "code",
   "execution_count": 7,
   "id": "81e70c06-3583-4643-b33c-b7d8cf58bfce",
   "metadata": {},
   "outputs": [
    {
     "name": "stdout",
     "output_type": "stream",
     "text": [
      "<class 'list'>\n",
      "107\n"
     ]
    }
   ],
   "source": [
    "lang_index = list(LANGUAGES.keys())\n",
    "print(type(lang_index))\n",
    "print(len(lang_index))"
   ]
  },
  {
   "cell_type": "code",
   "execution_count": 8,
   "id": "aa79a00c-f37f-49a1-9171-5db4de1d45ce",
   "metadata": {},
   "outputs": [
    {
     "name": "stdout",
     "output_type": "stream",
     "text": [
      "['af', 'sq', 'am', 'ar', 'hy', 'az', 'eu', 'be', 'bn', 'bs', 'bg', 'ca', 'ceb', 'ny', 'zh-cn', 'zh-tw', 'co', 'hr', 'cs', 'da', 'nl', 'en', 'eo', 'et', 'tl', 'fi', 'fr', 'fy', 'gl', 'ka', 'de', 'el', 'gu', 'ht', 'ha', 'haw', 'iw', 'he', 'hi', 'hmn', 'hu', 'is', 'ig', 'id', 'ga', 'it', 'ja', 'jw', 'kn', 'kk', 'km', 'ko', 'ku', 'ky', 'lo', 'la', 'lv', 'lt', 'lb', 'mk', 'mg', 'ms', 'ml', 'mt', 'mi', 'mr', 'mn', 'my', 'ne', 'no', 'or', 'ps', 'fa', 'pl', 'pt', 'pa', 'ro', 'ru', 'sm', 'gd', 'sr', 'st', 'sn', 'sd', 'si', 'sk', 'sl', 'so', 'es', 'su', 'sw', 'sv', 'tg', 'ta', 'te', 'th', 'tr', 'uk', 'ur', 'ug', 'uz', 'vi', 'cy', 'xh', 'yi', 'yo', 'zu']\n"
     ]
    }
   ],
   "source": [
    "print(lang_index)"
   ]
  },
  {
   "cell_type": "code",
   "execution_count": 9,
   "id": "01cebf83-9092-4644-9c3c-e6b75a2bb61c",
   "metadata": {},
   "outputs": [
    {
     "data": {
      "text/plain": [
       "21"
      ]
     },
     "execution_count": 9,
     "metadata": {},
     "output_type": "execute_result"
    }
   ],
   "source": [
    "list(LANGUAGES.keys()).index('en')"
   ]
  },
  {
   "cell_type": "code",
   "execution_count": 10,
   "id": "a215cf0e-2448-4ee7-b790-4c422bca56fb",
   "metadata": {},
   "outputs": [
    {
     "data": {
      "text/plain": [
       "'en'"
      ]
     },
     "execution_count": 10,
     "metadata": {},
     "output_type": "execute_result"
    }
   ],
   "source": [
    "source_language = 'english'\n",
    "list(LANGUAGES.keys())[list(LANGUAGES.values()).index(source_language)]"
   ]
  },
  {
   "cell_type": "code",
   "execution_count": 11,
   "id": "99c4667d-f56b-4b15-ae4e-00eed0270fa2",
   "metadata": {},
   "outputs": [],
   "source": [
    "# source_language = 'en'\n",
    "# list(LANGUAGES.keys())[list(LANGUAGES.values()).index(source_language)]\n",
    "# ValueError: 'en' is not in list"
   ]
  }
 ],
 "metadata": {
  "kernelspec": {
   "display_name": "Python 3 (ipykernel)",
   "language": "python",
   "name": "python3"
  },
  "language_info": {
   "codemirror_mode": {
    "name": "ipython",
    "version": 3
   },
   "file_extension": ".py",
   "mimetype": "text/x-python",
   "name": "python",
   "nbconvert_exporter": "python",
   "pygments_lexer": "ipython3",
   "version": "3.12.4"
  }
 },
 "nbformat": 4,
 "nbformat_minor": 5
}
